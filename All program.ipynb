{
 "cells": [
  {
   "cell_type": "code",
   "execution_count": 10,
   "id": "23b2efba",
   "metadata": {},
   "outputs": [
    {
     "name": "stdout",
     "output_type": "stream",
     "text": [
      "Enter the number:70\n",
      "[2, 3, 5, 7, 11, 13, 17, 19, 23, 29, 31, 37, 41, 43, 47, 53, 59, 61, 67]\n"
     ]
    }
   ],
   "source": [
    "n=int(input(\"Enter the number:\"))\n",
    "if n>1:\n",
    "    primelst=[]\n",
    "    for j in range(2,n+1,1):\n",
    "        flag=0\n",
    "        for i in range(2,int(j),1):\n",
    "            if(j%i)==0:\n",
    "                flag=1\n",
    "                break\n",
    "        if flag==0:\n",
    "            primelst.append(j)\n",
    "    print(primelst)\n",
    "else:\n",
    "    print(\"\\n Enter a number greater than 1.\")\n"
   ]
  },
  {
   "cell_type": "code",
   "execution_count": 2,
   "id": "8e5e7b5d",
   "metadata": {},
   "outputs": [
    {
     "name": "stdout",
     "output_type": "stream",
     "text": [
      "1\n"
     ]
    }
   ],
   "source": [
    "n=int(input(\"Enter the no. here: \"))\n",
    "def fact(n):\n",
    "    if(n<=1):\n",
    "        return 1\n",
    "    else:\n",
    "        return n*fact(n-1)\n",
    "print(fact(n))"
   ]
  },
  {
   "cell_type": "code",
   "execution_count": 2,
   "id": "576af78a",
   "metadata": {},
   "outputs": [
    {
     "name": "stdout",
     "output_type": "stream",
     "text": [
      "19 x 1 = 19\n",
      "19 x 2 = 38\n",
      "19 x 3 = 57\n",
      "19 x 4 = 76\n",
      "19 x 5 = 95\n",
      "19 x 6 = 114\n",
      "19 x 7 = 133\n",
      "19 x 8 = 152\n",
      "19 x 9 = 171\n",
      "19 x 10 = 190\n"
     ]
    }
   ],
   "source": [
    "n=19\n",
    "for i in range(1,11):\n",
    "    print(n,'x',i,'=',n*i)"
   ]
  },
  {
   "cell_type": "code",
   "execution_count": 12,
   "id": "304dc7ae",
   "metadata": {},
   "outputs": [
    {
     "name": "stdout",
     "output_type": "stream",
     "text": [
      "list inside the nested list: ['a', 1, 'b']\n",
      "Third element of the sublist: b\n"
     ]
    }
   ],
   "source": [
    "nestedlist=[1,2,['a',1,'b'],3,]\n",
    "sublist=nestedlist[2]\n",
    "element=sublist[2]\n",
    "print(\"list inside the nested list:\",sublist)\n",
    "print(\"Third element of the sublist:\",element)"
   ]
  },
  {
   "cell_type": "code",
   "execution_count": 14,
   "id": "0c504ad3",
   "metadata": {},
   "outputs": [
    {
     "name": "stdout",
     "output_type": "stream",
     "text": [
      "matrix:\n",
      "[1, 2, 3]\n",
      "[4, 5, 6]\n",
      "[7, 8, 9]\n",
      "element on row 2 and column 1: 4\n",
      "element on row 3 and column 2: 8\n"
     ]
    }
   ],
   "source": [
    "matrix=[[1,2,3],\n",
    "        [4,5,6],\n",
    "        [7,8,9]]\n",
    "rows=cols=len(matrix)\n",
    "print(\"matrix:\")\n",
    "for i in range(0,len(matrix)):\n",
    "    print(matrix[i])\n",
    "print(\"element on row 2 and column 1:\",matrix[1][0])\n",
    "print(\"element on row 3 and column 2:\",matrix[2][1])"
   ]
  },
  {
   "cell_type": "code",
   "execution_count": 20,
   "id": "5b4732d5",
   "metadata": {},
   "outputs": [
    {
     "name": "stdout",
     "output_type": "stream",
     "text": [
      " hello world\n"
     ]
    }
   ],
   "source": [
    "var1=\" hello \"\n",
    "var2=\"world\"\n",
    "var3=var1+var2\n",
    "print(var3)"
   ]
  },
  {
   "cell_type": "code",
   "execution_count": 19,
   "id": "901e93d6",
   "metadata": {},
   "outputs": [
    {
     "name": "stdout",
     "output_type": "stream",
     "text": [
      "list element after deleting are:23789\n",
      "\n",
      "list element after poping are:2389"
     ]
    }
   ],
   "source": [
    "list=[2,3,4,5,6,7,8,9]\n",
    "del list[2:5]\n",
    "print(\"list element after deleting are:\",end=\"\")\n",
    "for i in range(0,len(list)):\n",
    "    print(list[i],end=\"\")\n",
    "print(\"\\n\")\n",
    "list.pop(2)\n",
    "print(\"list element after poping are:\",end=\"\")\n",
    "for i in range(0,len(list)):\n",
    "    print(list[i],end=\"\")"
   ]
  },
  {
   "cell_type": "code",
   "execution_count": 47,
   "id": "8f0458ae",
   "metadata": {},
   "outputs": [
    {
     "name": "stdout",
     "output_type": "stream",
     "text": [
      "[1, 2, 3, 4, 5, [6, 7]]\n"
     ]
    }
   ],
   "source": [
    "x=[1,2,3,4,5]\n",
    "x.append([6,7])\n",
    "print(x)"
   ]
  },
  {
   "cell_type": "code",
   "execution_count": 51,
   "id": "b7f67e8c",
   "metadata": {},
   "outputs": [
    {
     "name": "stdout",
     "output_type": "stream",
     "text": [
      "[1, 2, 34, 5678, 8, 6, 77, 8]\n"
     ]
    }
   ],
   "source": [
    "x=[1,2,34,5678,8]\n",
    "x.extend([6,77,8])\n",
    "print(x)"
   ]
  },
  {
   "cell_type": "code",
   "execution_count": 54,
   "id": "3f1f7929",
   "metadata": {},
   "outputs": [
    {
     "name": "stdout",
     "output_type": "stream",
     "text": [
      "whats your name?\n",
      "you can call me preetham\n",
      "Hoe are you?\n",
      "please enter a proper key word\n",
      "How are you?\n",
      "I feel curious!\n",
      "whats the weather?\n",
      "its rainy\n",
      "stop\n"
     ]
    }
   ],
   "source": [
    "import random\n",
    "name=\"preetham\"\n",
    "weather=\"rainy\"\n",
    "mood=\"curious!\"\n",
    "feedback={\"whats your name?\":[\"I am {0}\".format(name),\"your personal companion {0}\".format(name),\"you can call me {0}\".format(name)],\n",
    "          \"whats the weather?\":[\"its {0}\".format(weather),\"Its {0} sir!\".format(weather),\"I feel like {0}\".format(weather)],\n",
    "          \"How are you?\":[\"I am {0}\".format(mood),\"I feel {0}\".format(mood)],\n",
    "          \"\":[\"please enter a proper key word\",\"what do you mean?\"]}\n",
    "def chat(mytext):\n",
    "    if \"whats your name?\" in mytext:\n",
    "        ytext=print(random.choice(feedback[\"whats your name?\"]))\n",
    "    elif \"whats the weather?\" in mytext:\n",
    "        ytext=print(random.choice(feedback[\"whats the weather?\"]))\n",
    "    elif \"How are you?\"in mytext:\n",
    "        ytext=print(random.choice(feedback[\"How are you?\"]))\n",
    "    else:\n",
    "        ytext=print(random.choice(feedback[\"\"]))\n",
    "    return ytext\n",
    "while 1:\n",
    "    mytext=input()\n",
    "    if mytext==\"exit\" or mytext==\"stop\":\n",
    "        break\n",
    "    chat(mytext)\n",
    "    \n",
    "                             "
   ]
  },
  {
   "cell_type": "code",
   "execution_count": 62,
   "id": "2c752cc8",
   "metadata": {},
   "outputs": [
    {
     "name": "stdout",
     "output_type": "stream",
     "text": [
      "union of e and n is {0, 1, 2, 3, 4, 5, 6, 7, 8, 9}\n",
      "intersection of e and n is {8, 1, 4, 7}\n",
      "difference of e and n is {0, 9, 3}\n",
      "symmetric difference of e and n is {0, 2, 3, 5, 6, 9}\n"
     ]
    }
   ],
   "source": [
    "E={0,1,3,4,7,8,9};\n",
    "N={1,4,6,7,8,2,5};\n",
    "print(\"union of e and n is\", E|N)\n",
    "print(\"intersection of e and n is\", E&N)\n",
    "print(\"difference of e and n is\", E-N)\n",
    "print(\"symmetric difference of e and n is\", E^N)"
   ]
  },
  {
   "cell_type": "code",
   "execution_count": 67,
   "id": "4411b795",
   "metadata": {},
   "outputs": [
    {
     "data": {
      "text/plain": [
       "dict_items([(1, 1), (3, 3), (4, 6)])"
      ]
     },
     "execution_count": 67,
     "metadata": {},
     "output_type": "execute_result"
    }
   ],
   "source": [
    "dict4={1:1,2:2,3:3}\n",
    "dict4[4]=6\n",
    "dict4\n",
    "dict4[2]=4\n",
    "dict4\n",
    "del dict4[2]\n",
    "dict4.keys()\n",
    "dict4.values()\n",
    "dict4.items()"
   ]
  },
  {
   "cell_type": "code",
   "execution_count": 22,
   "id": "ad19d7c1",
   "metadata": {},
   "outputs": [
    {
     "name": "stdout",
     "output_type": "stream",
     "text": [
      "Enter the string: hi hi hi hi\n",
      "Enter the substring: hi\n",
      "count: 4\n"
     ]
    }
   ],
   "source": [
    "s=input(\"Enter the string: \")\n",
    "sub=input(\"Enter the substring: \")\n",
    "s=s.split()\n",
    "res=0\n",
    "for i in s:\n",
    "    if i in sub:\n",
    "        res=res+1\n",
    "print(\"count:\",res)\n"
   ]
  },
  {
   "cell_type": "code",
   "execution_count": 106,
   "id": "66e5ca30",
   "metadata": {},
   "outputs": [
    {
     "name": "stdout",
     "output_type": "stream",
     "text": [
      "['a', 'apple', 'big', 'company', 'is']\n"
     ]
    }
   ],
   "source": [
    "text__file=open('dada.txt','r')\n",
    "text=text__file.read()\n",
    "text=text.lower()\n",
    "words=text.split()\n",
    "words=[word.strip(':,!;()[]')for word in words]\n",
    "words=[word.replace(\"'s\",'')for word in words]\n",
    "unique=[]\n",
    "for word in words:\n",
    "    if word not in unique:\n",
    "        unique.append(word)\n",
    "unique.sort()\n",
    "print(unique)"
   ]
  },
  {
   "cell_type": "code",
   "execution_count": 23,
   "id": "a2fe65ab",
   "metadata": {},
   "outputs": [
    {
     "name": "stdout",
     "output_type": "stream",
     "text": [
      "mammal\n",
      "I am a mammal\n",
      "I am a dog\n"
     ]
    }
   ],
   "source": [
    "class dog:\n",
    "    attr1=\"mammal\"\n",
    "    attr2=\"dog\"\n",
    "    def fun(self):\n",
    "        print(\"I am a\",self.attr1)\n",
    "        print(\"I am a\",self.attr2)\n",
    "Rodger=dog()\n",
    "print(Rodger.attr1)\n",
    "Rodger.fun()"
   ]
  },
  {
   "cell_type": "code",
   "execution_count": 6,
   "id": "687cf681",
   "metadata": {},
   "outputs": [
    {
     "name": "stdout",
     "output_type": "stream",
     "text": [
      "preetham\n",
      "5dip22ri11\n",
      "\r\n",
      "my name is preetham\n",
      "Idnumber:5dip22ri11\n",
      "post:asst.manager\n",
      "salary:120000\n",
      "preetham works as asst.manager\n"
     ]
    }
   ],
   "source": [
    "class person(object):\n",
    "    def __init__(self,name,idnumber):\n",
    "        self.name=name\n",
    "        self.idnumber=idnumber\n",
    "    def display(self):\n",
    "        print(self.name)\n",
    "        print(self.idnumber)\n",
    "    def details(self):\n",
    "        print(\"my name is {}\".format(self.name))\n",
    "        print(\"idnumber : {}\".format(self.idnumber))\n",
    "class Employee(person):\n",
    "    def __init__(self,name,idnumber,salary,post):\n",
    "        self.salary=salary\n",
    "        self.post=post\n",
    "        person.__init__(self,name,idnumber)\n",
    "    def details(self):\n",
    "        print(\"my name is {}\".format(self.name))\n",
    "        print(\"Idnumber:{}\".format(self.idnumber))\n",
    "        print(\"post:{}\".format(self.post))\n",
    "        print(\"salary:{}\".format(self.salary))\n",
    "        print(self.name,\"works as\",(self.post))\n",
    "a=Employee(\"preetham\",\"5dip22ri11\",120000,\"asst.manager\")\n",
    "a.display()\n",
    "print(\"\\r\")\n",
    "a.details()\n"
   ]
  },
  {
   "cell_type": "code",
   "execution_count": 32,
   "id": "14a0bf18",
   "metadata": {},
   "outputs": [
    {
     "name": "stdout",
     "output_type": "stream",
     "text": [
      "calling private member of base class: 2\n",
      "calling modified protected member outside class: 3\n",
      "accessing protected member of obj1: 3\n",
      "accessing protected member of obj2: 2\n"
     ]
    }
   ],
   "source": [
    "class Base:\n",
    "    def __init__(self):\n",
    "        self._a=2\n",
    "class Derived(Base):\n",
    "    def __init__(self):\n",
    "        Base.__init__(self)\n",
    "        print(\"calling private member of base class:\",self._a)\n",
    "        self._a=3\n",
    "        print(\"calling modified protected member outside class:\",self._a)\n",
    "obj1=Derived()\n",
    "obj2=Base()\n",
    "print(\"accessing protected member of obj1:\",obj1._a)\n",
    "print(\"accessing protected member of obj2:\",obj2._a)"
   ]
  },
  {
   "cell_type": "code",
   "execution_count": 24,
   "id": "bb6fc532",
   "metadata": {},
   "outputs": [
    {
     "name": "stdout",
     "output_type": "stream",
     "text": [
      "calling private memeber of base class: geeks for geeks\n"
     ]
    }
   ],
   "source": [
    "class Base:\n",
    "    def __init__(self):\n",
    "        self._c=\"geeks for geeks\"\n",
    "class derived(Base):\n",
    "    def __init__(self):\n",
    "        Base.__init__(self)\n",
    "        print(\"calling private memeber of base class:\",self._c)\n",
    "obj1=derived()\n"
   ]
  },
  {
   "cell_type": "code",
   "execution_count": 6,
   "id": "0148c36f",
   "metadata": {},
   "outputs": [
    {
     "name": "stdout",
     "output_type": "stream",
     "text": [
      "preetham\n",
      "720472\n",
      "my name is preetham\n",
      "Idnumber:720472\n",
      "post:CEO\n",
      "preetham works as CEO\n",
      "my salary is 200000\n"
     ]
    }
   ],
   "source": [
    "class person(object):\n",
    "    def __init__(self,name,idnumber):\n",
    "        self.name=name\n",
    "        self.idnumber=idnumber\n",
    "    def display(self):\n",
    "        print(self.name)\n",
    "        print(self.idnumber)\n",
    "    def details(self):\n",
    "        print(\"my name is {}\".format(self.name))\n",
    "        print(\"idnumber:{}\".format(self.idnumber))\n",
    "class Employee(person):\n",
    "    def __init__(self,name,idnumber,salary,post):\n",
    "        self.salary=salary\n",
    "        self.post=post\n",
    "        person.__init__(self,name,idnumber)\n",
    "    def details(self):\n",
    "        print(\"my name is {}\".format(self.name))\n",
    "        print(\"Idnumber:{}\".format(self.idnumber))\n",
    "        print(\"post:{}\".format(self.post))\n",
    "        print(self.name,\"works as\",(self.post))\n",
    "        print(\"my salary is {}\".format(self.salary))\n",
    "a=Employee('preetham',720472,200000,\"CEO\")\n",
    "a.display()\n",
    "a.details()\n",
    "\n"
   ]
  },
  {
   "cell_type": "code",
   "execution_count": 27,
   "id": "7bc154b0",
   "metadata": {},
   "outputs": [
    {
     "name": "stdout",
     "output_type": "stream",
     "text": [
      "There are so many birds.\n",
      "most of the birds can fly but so cannot.\n",
      "There are so many birds.\n",
      "sparrows can fly.\n",
      "There are so many birds.\n",
      "ostriches cannot fly.\n"
     ]
    }
   ],
   "source": [
    "class Bird:\n",
    "    def intro(self):\n",
    "        print(\"There are so many birds.\")\n",
    "    def flight(self):\n",
    "        print(\"most of the birds can fly but so cannot.\")\n",
    "class sparrow(Bird):\n",
    "    def flight(self):\n",
    "        print(\"sparrows can fly.\")\n",
    "class ostrich(Bird):\n",
    "    def flight(self):\n",
    "        print(\"ostriches cannot fly.\")\n",
    "obj__B=Bird()\n",
    "obj__s=sparrow()\n",
    "obj__o=ostrich()\n",
    "obj__B.intro()\n",
    "obj__B.flight()\n",
    "obj__s.intro()\n",
    "obj__s.flight()\n",
    "obj__o.intro()\n",
    "obj__o.flight()\n",
    "    \n"
   ]
  },
  {
   "cell_type": "code",
   "execution_count": 34,
   "id": "f5b71cac",
   "metadata": {},
   "outputs": [
    {
     "name": "stdout",
     "output_type": "stream",
     "text": [
      "hello world\n"
     ]
    }
   ],
   "source": [
    "import asyncio\n",
    "def hello_world(loop):\n",
    "    print('hello world')\n",
    "    loop.stop()\n",
    "loop=asyncio.get_event_loop()\n",
    "loop.call_soon(hello_world,loop)\n",
    "loop.run_forever()"
   ]
  },
  {
   "cell_type": "code",
   "execution_count": 35,
   "id": "b5c344c3",
   "metadata": {},
   "outputs": [
    {
     "name": "stdout",
     "output_type": "stream",
     "text": [
      "1 for push \n",
      " 2 for pop \n",
      " 3 for check if it is Empty \n",
      " 4 to print stack \n",
      " 5 to exit \n",
      "1\n",
      "Enter the element to push in stack \n",
      "2\n",
      "1 for push \n",
      " 2 for pop \n",
      " 3 for check if it is Empty \n",
      " 4 to print stack \n",
      " 5 to exit \n",
      "2\n",
      "None\n",
      "1 for push \n",
      " 2 for pop \n",
      " 3 for check if it is Empty \n",
      " 4 to print stack \n",
      " 5 to exit \n",
      "3\n",
      "True\n",
      "1 for push \n",
      " 2 for pop \n",
      " 3 for check if it is Empty \n",
      " 4 to print stack \n",
      " 5 to exit \n",
      "4\n",
      "[]\n",
      "1 for push \n",
      " 2 for pop \n",
      " 3 for check if it is Empty \n",
      " 4 to print stack \n",
      " 5 to exit \n",
      "5\n"
     ]
    }
   ],
   "source": [
    "class stackusingArray:\n",
    "    def __init__(self):\n",
    "        self.stack=[]\n",
    "    def push (self,element):\n",
    "        self.stack.append(element)\n",
    "    def pop(self): \n",
    "        if not (self.isEmpty()):\n",
    "            lastElement=self.stack[-1]\n",
    "            del(self.stack[-1])\n",
    "        else:\n",
    "            return(\"stack Already Empty\")\n",
    "    def isEmpty(self):\n",
    "        return self.stack==[]\n",
    "    def printstack(self):\n",
    "        print(self.stack)\n",
    "if __name__==\"__main__\":\n",
    "    s=stackusingArray() \n",
    "while(True):\n",
    "    el=int(input(\"1 for push \\n 2 for pop \\n 3 for check if it is Empty \\n 4 to print stack \\n 5 to exit \\n\"))\n",
    "    if(el==1):\n",
    "        item=input(\"Enter the element to push in stack \\n\")\n",
    "        s.push(item)\n",
    "    if (el==2):\n",
    "        print(s.pop())\n",
    "    if (el==3):\n",
    "        print(s.isEmpty())\n",
    "    if (el==4):\n",
    "        s.printstack()\n",
    "    if (el==5):\n",
    "        break\n",
    "\n",
    "        "
   ]
  },
  {
   "cell_type": "code",
   "execution_count": 9,
   "id": "40a2a35e",
   "metadata": {},
   "outputs": [
    {
     "name": "stdout",
     "output_type": "stream",
     "text": [
      "Enter the size of Queue:2\n",
      "Select the operation: 1. Add 2. Delete 3. Display 4. Quit\n",
      "1\n",
      "Enter the element:2\n",
      "2 is added to the Queue!\n",
      "Select the operation: 1. Add 2. Delete 3. Display 4. Quit\n",
      "2\n",
      "element removed!!: 2\n",
      "Select the operation: 1. Add 2. Delete 3. Display 4. Quit\n",
      "3\n",
      "[]\n",
      "Select the operation: 1. Add 2. Delete 3. Display 4. Quit\n",
      "1\n",
      "Enter the element:2\n",
      "2 is added to the Queue!\n",
      "Select the operation: 1. Add 2. Delete 3. Display 4. Quit\n",
      "3\n",
      "['2']\n",
      "Select the operation: 1. Add 2. Delete 3. Display 4. Quit\n",
      "4\n"
     ]
    }
   ],
   "source": [
    "q = []\n",
    "\n",
    "size = int(input(\"Enter the size of Queue:\"))\n",
    "def Enqueue():\n",
    "    if len(q) == size:\n",
    "        print(\"Queue is Full!!!\")\n",
    "    else:\n",
    "        element = input(\"Enter the element:\")\n",
    "        q.append(element)\n",
    "        print(element, \"is added to the Queue!\")\n",
    "\n",
    "def dequeue():\n",
    "    if not q:\n",
    "        print(\"Queue is Empty!!!\")\n",
    "    else:\n",
    "        e = q.pop(0)\n",
    "        print(\"element removed!!:\", e)\n",
    "\n",
    "def display():\n",
    "    print(q)\n",
    "\n",
    "while True:\n",
    "    print(\"Select the operation: 1. Add 2. Delete 3. Display 4. Quit\")\n",
    "    choice = int(input())\n",
    "    if choice == 1:\n",
    "        Enqueue()\n",
    "    elif choice == 2:\n",
    "        dequeue()\n",
    "    elif choice == 3:\n",
    "        display()\n",
    "    elif choice == 4:\n",
    "        break\n",
    "    else:\n",
    "        print(\"Invalid operation!!!\")\n"
   ]
  },
  {
   "cell_type": "code",
   "execution_count": 9,
   "id": "9df65a20",
   "metadata": {},
   "outputs": [
    {
     "name": "stdout",
     "output_type": "stream",
     "text": [
      "Move disk 1 from source A to destination C\n",
      "Move disk 2 from source A to destination B\n",
      "Move disk 1 from source C to destination B\n",
      "Move disk 3 from source A to destination C\n",
      "Move disk 1 from source B to destination A\n",
      "Move disk 2 from source B to destination C\n",
      "Move disk 1 from source A to destination C\n",
      "Move disk 4 from source A to destination B\n",
      "Move disk 1 from source C to destination B\n",
      "Move disk 2 from source C to destination A\n",
      "Move disk 1 from source B to destination A\n",
      "Move disk 3 from source C to destination B\n",
      "Move disk 1 from source A to destination C\n",
      "Move disk 2 from source A to destination B\n",
      "Move disk 1 from source C to destination B\n"
     ]
    }
   ],
   "source": [
    "def TowerofHanoi(n, source, destination, auxiliary):\n",
    "    if n > 0:\n",
    "        TowerofHanoi(n-1, source, auxiliary, destination)\n",
    "        print(\"Move disk\", n, \"from source\", source, \"to destination\", destination)\n",
    "        TowerofHanoi(n-1, auxiliary, destination, source)\n",
    "n = 4\n",
    "TowerofHanoi(n, 'A', 'B', 'C')"
   ]
  },
  {
   "cell_type": "code",
   "execution_count": 1,
   "id": "24af8407",
   "metadata": {},
   "outputs": [
    {
     "name": "stdout",
     "output_type": "stream",
     "text": [
      "Enter number of element:3\n",
      "Enter the element:\n",
      "10\n",
      "20\n",
      "30\n",
      "[10, 20, 30]\n",
      "Enter the key element to be searched: 30\n",
      "Time taken by linear search algorithum: 0:00:17.641226\n",
      "Element found at position 3\n"
     ]
    }
   ],
   "source": [
    "from datetime import datetime\n",
    "startTime1 =datetime.now()\n",
    "def linearsearch(array,n,key):\n",
    "    for i in range (0,n):\n",
    "        if (array[i]==key):\n",
    "            return i\n",
    "    return -1\n",
    "lst=[]\n",
    "n=int(input(\"Enter number of element:\"))\n",
    "print(\"Enter the element:\")\n",
    "for i in range(0,n):\n",
    "    ele=int(input())\n",
    "    lst.append(ele)\n",
    "print(lst)\n",
    "key=int(input(\"Enter the key element to be searched: \"))\n",
    "pos=linearsearch(lst,n,key)\n",
    "print(\"Time taken by linear search algorithum:\",datetime.now()-startTime1)\n",
    "if (pos>=0):\n",
    "    print('Element found at position',pos+1)\n",
    "else:\n",
    "    print('Element not found')"
   ]
  },
  {
   "cell_type": "code",
   "execution_count": 17,
   "id": "5fe4d9a3",
   "metadata": {},
   "outputs": [
    {
     "name": "stdout",
     "output_type": "stream",
     "text": [
      "Enter number of element:3\n",
      "Enter the elements:\n",
      "10\n",
      "20\n",
      "30\n",
      "[10, 20, 30]\n",
      "Enter the key element to be searched40\n",
      "Time taken by binary search algorithum: 0:00:25.317353\n",
      "Element not found\n"
     ]
    }
   ],
   "source": [
    "from datetime import datetime\n",
    "startTime1=datetime.now()\n",
    "def binarysearch(array,x,Low,High):\n",
    "    while Low<=High:\n",
    "        mid=Low+(High-Low)|2\n",
    "        if array[mid]==x:\n",
    "            return mid\n",
    "        elif array[mid]<x:\n",
    "            Low=mid+1\n",
    "        else :\n",
    "            High=mid+1\n",
    "    return -1\n",
    "lst=[]\n",
    "n=int(input(\"Enter number of element:\"))\n",
    "print(\"Enter the elements:\")\n",
    "for i in range(0,n):\n",
    "    ele=int(input())\n",
    "    lst.append(ele)\n",
    "print(lst)\n",
    "key=int(input(\"Enter the key element to be searched\"))\n",
    "pos=binarysearch(lst,key,0,n-1)\n",
    "print(\"Time taken by binary search algorithum:\",datetime.now()-startTime1)\n",
    "if(pos==-1):\n",
    "    print(\"Element not found\")\n",
    "else:\n",
    "    print(\"Element found at position\",pos+1)"
   ]
  },
  {
   "cell_type": "code",
   "execution_count": 2,
   "id": "409d6ea3",
   "metadata": {},
   "outputs": [
    {
     "name": "stdout",
     "output_type": "stream",
     "text": [
      "1 for push\n",
      "2 for pop\n",
      "3 for check if it is empty\n",
      "4 to print stack\n",
      "5 to exit\n",
      "Enter your choice: 1\n",
      "Enter the element to push in stack: 2\n",
      "1 for push\n",
      "2 for pop\n",
      "3 for check if it is empty\n",
      "4 to print stack\n",
      "5 to exit\n",
      "Enter your choice: 2\n",
      "2\n",
      "1 for push\n",
      "2 for pop\n",
      "3 for check if it is empty\n",
      "4 to print stack\n",
      "5 to exit\n",
      "Enter your choice: 3\n",
      "True\n",
      "1 for push\n",
      "2 for pop\n",
      "3 for check if it is empty\n",
      "4 to print stack\n",
      "5 to exit\n",
      "Enter your choice: 4\n",
      "[]\n",
      "None\n",
      "1 for push\n",
      "2 for pop\n",
      "3 for check if it is empty\n",
      "4 to print stack\n",
      "5 to exit\n",
      "Enter your choice: 6\n",
      "Invalid choice. Try again.\n",
      "1 for push\n",
      "2 for pop\n",
      "3 for check if it is empty\n",
      "4 to print stack\n",
      "5 to exit\n",
      "Enter your choice: 5\n"
     ]
    }
   ],
   "source": [
    "class StackUsingArray:\n",
    "    def __init__(self):\n",
    "        self.stack = []\n",
    "\n",
    "    def push(self, element):\n",
    "        self.stack.append(element)\n",
    "\n",
    "    def pop(self):\n",
    "        if not self.isEmpty():\n",
    "            return self.stack.pop()\n",
    "        else:\n",
    "            return \"Stack is empty\"\n",
    "\n",
    "    def isEmpty(self):\n",
    "        return len(self.stack) == 0\n",
    "\n",
    "    def printStack(self):\n",
    "        print(self.stack)\n",
    "\n",
    "if __name__ == \"__main__\":\n",
    "    s = StackUsingArray()\n",
    "\n",
    "    while True:\n",
    "        print(\"1 for push\")\n",
    "        print(\"2 for pop\")\n",
    "        print(\"3 for check if it is empty\")\n",
    "        print(\"4 to print stack\")\n",
    "        print(\"5 to exit\")\n",
    "\n",
    "        el = int(input(\"Enter your choice: \"))\n",
    "\n",
    "        if el == 1:\n",
    "            item = input(\"Enter the element to push in stack: \")\n",
    "            s.push(item)\n",
    "        elif el == 2:\n",
    "            print(s.pop())\n",
    "        elif el == 3:\n",
    "            print(s.isEmpty())\n",
    "        elif el == 4:\n",
    "            print (s.printStack())\n",
    "        elif el == 5:\n",
    "            break\n",
    "        else:\n",
    "            print(\"Invalid choice. Try again.\")\n"
   ]
  },
  {
   "cell_type": "code",
   "execution_count": 12,
   "id": "0286693c",
   "metadata": {},
   "outputs": [
    {
     "name": "stdout",
     "output_type": "stream",
     "text": [
      "Enter the number of elements: 5\n",
      "Enter the elements:\n",
      "1\n",
      "2\n",
      "3\n",
      "4\n",
      "5\n",
      "[1, 2, 3, 4, 5]\n",
      "Enter the key element to be searched: 5\n",
      "Time taken by linear search algorithm: 0:00:00\n",
      "Element found at position 5\n"
     ]
    }
   ],
   "source": [
    "from datetime import datetime\n",
    "\n",
    "def linearsearch(array, key):\n",
    "    for i, num in enumerate(array, start=1):\n",
    "        if num == key:\n",
    "            return i\n",
    "    return -1\n",
    "\n",
    "lst = []\n",
    "n = int(input(\"Enter the number of elements: \"))\n",
    "print(\"Enter the elements:\")\n",
    "for i in range(n):\n",
    "    ele = int(input())\n",
    "    lst.append(ele)\n",
    "print(lst)\n",
    "key = int(input(\"Enter the key element to be searched: \"))\n",
    "startTime1 = datetime.now()\n",
    "pos = linearsearch(lst, key)\n",
    "print(\"Time taken by linear search algorithm:\", datetime.now() - startTime1)\n",
    "if pos >= 0:\n",
    "    print('Element found at position', pos)\n",
    "else:\n",
    "    print('Element not found')\n"
   ]
  },
  {
   "cell_type": "code",
   "execution_count": 13,
   "id": "62265a41",
   "metadata": {},
   "outputs": [
    {
     "name": "stdout",
     "output_type": "stream",
     "text": [
      "Enter the number of elements: 5\n",
      "Enter the elements:\n",
      "1\n",
      "2\n",
      "3\n",
      "4\n",
      "8\n",
      "[1, 2, 3, 4, 8]\n",
      "Enter the key element to be searched: 8\n",
      "Time taken by binary search algorithm: 0:00:00\n",
      "Element found at position 5\n"
     ]
    }
   ],
   "source": [
    "from datetime import datetime\n",
    "\n",
    "def binarysearch(array, x):\n",
    "    low = 0\n",
    "    high = len(array) - 1\n",
    "\n",
    "    while low <= high:\n",
    "        mid = (low + high) // 2\n",
    "        if array[mid] == x:\n",
    "            return mid\n",
    "        elif array[mid] < x:\n",
    "            low = mid + 1\n",
    "        else:\n",
    "            high = mid - 1\n",
    "\n",
    "    return -1\n",
    "\n",
    "lst = []\n",
    "n = int(input(\"Enter the number of elements: \"))\n",
    "print(\"Enter the elements:\")\n",
    "for i in range(n):\n",
    "    ele = int(input())\n",
    "    lst.append(ele)\n",
    "print(lst)\n",
    "key = int(input(\"Enter the key element to be searched: \"))\n",
    "startTime1 = datetime.now()\n",
    "pos = binarysearch(lst, key)\n",
    "print(\"Time taken by binary search algorithm:\", datetime.now() - startTime1)\n",
    "if pos == -1:\n",
    "    print(\"Element not found\")\n",
    "else:\n",
    "    print(\"Element found at position\", pos + 1)\n"
   ]
  },
  {
   "cell_type": "code",
   "execution_count": null,
   "id": "7f6af442",
   "metadata": {},
   "outputs": [],
   "source": []
  }
 ],
 "metadata": {
  "kernelspec": {
   "display_name": "Python 3 (ipykernel)",
   "language": "python",
   "name": "python3"
  },
  "language_info": {
   "codemirror_mode": {
    "name": "ipython",
    "version": 3
   },
   "file_extension": ".py",
   "mimetype": "text/x-python",
   "name": "python",
   "nbconvert_exporter": "python",
   "pygments_lexer": "ipython3",
   "version": "3.11.2"
  }
 },
 "nbformat": 4,
 "nbformat_minor": 5
}
